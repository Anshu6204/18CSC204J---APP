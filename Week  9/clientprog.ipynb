{
 "cells": [
  {
   "cell_type": "code",
   "execution_count": 4,
   "metadata": {},
   "outputs": [
    {
     "ename": "ConnectionAbortedError",
     "evalue": "[WinError 10053] An established connection was aborted by the software in your host machine",
     "output_type": "error",
     "traceback": [
      "\u001b[1;31m---------------------------------------------------------------------------\u001b[0m",
      "\u001b[1;31mConnectionAbortedError\u001b[0m                    Traceback (most recent call last)",
      "\u001b[1;32md:\\Python Questions\\Week  9\\clientprog.ipynb Cell 1'\u001b[0m in \u001b[0;36m<cell line: 69>\u001b[1;34m()\u001b[0m\n\u001b[0;32m     <a href='vscode-notebook-cell:/d%3A/Python%20Questions/Week%20%209/clientprog.ipynb#ch0000000?line=65'>66</a>\u001b[0m     client_socket\u001b[39m.\u001b[39mclose() \u001b[39m# close the connection\u001b[39;00m\n\u001b[0;32m     <a href='vscode-notebook-cell:/d%3A/Python%20Questions/Week%20%209/clientprog.ipynb#ch0000000?line=68'>69</a>\u001b[0m \u001b[39mif\u001b[39;00m \u001b[39m__name__\u001b[39m \u001b[39m==\u001b[39m \u001b[39m'\u001b[39m\u001b[39m__main__\u001b[39m\u001b[39m'\u001b[39m:\n\u001b[1;32m---> <a href='vscode-notebook-cell:/d%3A/Python%20Questions/Week%20%209/clientprog.ipynb#ch0000000?line=69'>70</a>\u001b[0m     client_program()\n",
      "\u001b[1;32md:\\Python Questions\\Week  9\\clientprog.ipynb Cell 1'\u001b[0m in \u001b[0;36mclient_program\u001b[1;34m()\u001b[0m\n\u001b[0;32m     <a href='vscode-notebook-cell:/d%3A/Python%20Questions/Week%20%209/clientprog.ipynb#ch0000000?line=57'>58</a>\u001b[0m \u001b[39mwhile\u001b[39;00m message\u001b[39m.\u001b[39mlower()\u001b[39m.\u001b[39mstrip() \u001b[39m!=\u001b[39m \u001b[39m'\u001b[39m\u001b[39mbye\u001b[39m\u001b[39m'\u001b[39m:\n\u001b[0;32m     <a href='vscode-notebook-cell:/d%3A/Python%20Questions/Week%20%209/clientprog.ipynb#ch0000000?line=58'>59</a>\u001b[0m     client_socket\u001b[39m.\u001b[39msend(message\u001b[39m.\u001b[39mencode()) \u001b[39m# send message\u001b[39;00m\n\u001b[1;32m---> <a href='vscode-notebook-cell:/d%3A/Python%20Questions/Week%20%209/clientprog.ipynb#ch0000000?line=59'>60</a>\u001b[0m     data \u001b[39m=\u001b[39m client_socket\u001b[39m.\u001b[39;49mrecv(\u001b[39m1024\u001b[39;49m)\u001b[39m.\u001b[39mdecode() \u001b[39m# receive response\u001b[39;00m\n\u001b[0;32m     <a href='vscode-notebook-cell:/d%3A/Python%20Questions/Week%20%209/clientprog.ipynb#ch0000000?line=61'>62</a>\u001b[0m     \u001b[39mprint\u001b[39m(\u001b[39m'\u001b[39m\u001b[39mReceived from server:\u001b[39m\u001b[39m'\u001b[39m \u001b[39m+\u001b[39m data) \u001b[39m# show in terminal\u001b[39;00m\n\u001b[0;32m     <a href='vscode-notebook-cell:/d%3A/Python%20Questions/Week%20%209/clientprog.ipynb#ch0000000?line=63'>64</a>\u001b[0m     message \u001b[39m=\u001b[39m \u001b[39minput\u001b[39m(\u001b[39m\"\u001b[39m\u001b[39m->\u001b[39m\u001b[39m\"\u001b[39m) \u001b[39m# again take input\u001b[39;00m\n",
      "\u001b[1;31mConnectionAbortedError\u001b[0m: [WinError 10053] An established connection was aborted by the software in your host machine"
     ]
    }
   ],
   "source": [
    "import socket\n",
    "\n",
    "def server_program():\n",
    "\n",
    "# get the hostname.\n",
    "\n",
    "    host =socket.gethostname()\n",
    "\n",
    "    port=5001 # initiate port no above 1024\n",
    "\n",
    "    server_socket = socket.socket() # get instance\n",
    "\n",
    "#look closely. The bind() function takes tuple as argument\n",
    "\n",
    "    server_socket.bind((host, port)) # bind host address and port together\n",
    "\n",
    "# configure how many client the server can listen simultaneously\n",
    "\n",
    "    server_socket.listen(2)\n",
    "\n",
    "    conn, address =server_socket.accept() # accept new connection\n",
    "\n",
    "    print(\"Connection from: \" + str(address))\n",
    "\n",
    "    while True:\n",
    "\n",
    "# receive data stream. it won't accept data packet greater than 1024 bytes\n",
    "\n",
    "        data =conn.recv(1024).decode()\n",
    "\n",
    "        if not data:\n",
    "\n",
    "#if data is not received break\n",
    "\n",
    "            break\n",
    "\n",
    "        print(\"from connected user: \" + str(data))\n",
    "        data = input('->')\n",
    "        conn.send(data.encode())\n",
    "\n",
    "    conn.close()\n",
    "\n",
    "if __name__=='__main__':\n",
    "    server_program\n",
    "\n",
    "\n",
    "    \n",
    "import socket\n",
    "def client_program():\n",
    "    host = socket.gethostname() # as both code is running on same pc\n",
    "    port = 5001 # socket server port number\n",
    "\n",
    "    client_socket = socket.socket() # instantiate\n",
    "    client_socket.connect((host, port)) # connect to the server\n",
    "\n",
    "    message = input(\"->\") # take input\n",
    "\n",
    "    while message.lower().strip() != 'bye':\n",
    "        client_socket.send(message.encode()) # send message\n",
    "        data = client_socket.recv(1024).decode() # receive response\n",
    "\n",
    "        print('Received from server:' + data) # show in terminal\n",
    "\n",
    "        message = input(\"->\") # again take input\n",
    "\n",
    "    client_socket.close() # close the connection\n",
    "\n",
    "\n",
    "if __name__ == '__main__':\n",
    "    client_program()"
   ]
  }
 ],
 "metadata": {
  "interpreter": {
   "hash": "27f6fea6f47ae512550f0b8facdbd035a93e1dd89633f7bf2dd00a2502c71d0d"
  },
  "kernelspec": {
   "display_name": "Python 3.10.1 64-bit",
   "language": "python",
   "name": "python3"
  },
  "language_info": {
   "codemirror_mode": {
    "name": "ipython",
    "version": 3
   },
   "file_extension": ".py",
   "mimetype": "text/x-python",
   "name": "python",
   "nbconvert_exporter": "python",
   "pygments_lexer": "ipython3",
   "version": "3.10.1"
  },
  "orig_nbformat": 4
 },
 "nbformat": 4,
 "nbformat_minor": 2
}
