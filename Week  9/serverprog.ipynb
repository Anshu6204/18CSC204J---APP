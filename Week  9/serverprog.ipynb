{
 "cells": [
  {
   "cell_type": "code",
   "execution_count": 7,
   "metadata": {},
   "outputs": [
    {
     "name": "stdout",
     "output_type": "stream",
     "text": [
      "Connection from: ('192.168.203.1', 51513)\n",
      "from connected user: hi Anshu\n"
     ]
    },
    {
     "ename": "KeyboardInterrupt",
     "evalue": "",
     "output_type": "error",
     "traceback": [
      "\u001b[1;31m---------------------------------------------------------------------------\u001b[0m",
      "\u001b[1;31mConnectionAbortedError\u001b[0m                    Traceback (most recent call last)",
      "    \u001b[1;31m[... skipping hidden 1 frame]\u001b[0m\n",
      "\u001b[1;32md:\\Python Questions\\Week  9\\serverprog.ipynb Cell 1'\u001b[0m in \u001b[0;36m<cell line: 43>\u001b[1;34m()\u001b[0m\n\u001b[0;32m     <a href='vscode-notebook-cell:/d%3A/Python%20Questions/Week%20%209/serverprog.ipynb#ch0000000?line=42'>43</a>\u001b[0m \u001b[39mif\u001b[39;00m \u001b[39m__name__\u001b[39m\u001b[39m==\u001b[39m\u001b[39m'\u001b[39m\u001b[39m__main__\u001b[39m\u001b[39m'\u001b[39m:\n\u001b[1;32m---> <a href='vscode-notebook-cell:/d%3A/Python%20Questions/Week%20%209/serverprog.ipynb#ch0000000?line=43'>44</a>\u001b[0m     server_program()\n",
      "\u001b[1;32md:\\Python Questions\\Week  9\\serverprog.ipynb Cell 1'\u001b[0m in \u001b[0;36mserver_program\u001b[1;34m()\u001b[0m\n\u001b[0;32m     <a href='vscode-notebook-cell:/d%3A/Python%20Questions/Week%20%209/serverprog.ipynb#ch0000000?line=24'>25</a>\u001b[0m     \u001b[39mwhile\u001b[39;00m \u001b[39mTrue\u001b[39;00m:\n\u001b[0;32m     <a href='vscode-notebook-cell:/d%3A/Python%20Questions/Week%20%209/serverprog.ipynb#ch0000000?line=25'>26</a>\u001b[0m \n\u001b[0;32m     <a href='vscode-notebook-cell:/d%3A/Python%20Questions/Week%20%209/serverprog.ipynb#ch0000000?line=26'>27</a>\u001b[0m \u001b[39m# receive data stream. it won't accept data packet greater than 1024 bytes\u001b[39;00m\n\u001b[1;32m---> <a href='vscode-notebook-cell:/d%3A/Python%20Questions/Week%20%209/serverprog.ipynb#ch0000000?line=28'>29</a>\u001b[0m         data \u001b[39m=\u001b[39mconn\u001b[39m.\u001b[39;49mrecv(\u001b[39m1024\u001b[39;49m)\u001b[39m.\u001b[39mdecode()\n\u001b[0;32m     <a href='vscode-notebook-cell:/d%3A/Python%20Questions/Week%20%209/serverprog.ipynb#ch0000000?line=30'>31</a>\u001b[0m         \u001b[39mif\u001b[39;00m \u001b[39mnot\u001b[39;00m data:\n\u001b[0;32m     <a href='vscode-notebook-cell:/d%3A/Python%20Questions/Week%20%209/serverprog.ipynb#ch0000000?line=31'>32</a>\u001b[0m \n\u001b[0;32m     <a href='vscode-notebook-cell:/d%3A/Python%20Questions/Week%20%209/serverprog.ipynb#ch0000000?line=32'>33</a>\u001b[0m \u001b[39m#if data is not received break\u001b[39;00m\n",
      "\u001b[1;31mConnectionAbortedError\u001b[0m: [WinError 10053] An established connection was aborted by the software in your host machine",
      "\nDuring handling of the above exception, another exception occurred:\n",
      "\u001b[1;31mKeyboardInterrupt\u001b[0m                         Traceback (most recent call last)",
      "\u001b[1;31mKeyboardInterrupt\u001b[0m: "
     ]
    }
   ],
   "source": [
    "import socket\n",
    "\n",
    "def server_program():\n",
    "\n",
    "# get the hostname.\n",
    "\n",
    "    host =socket.gethostname()\n",
    "\n",
    "    port=5001 # initiate port no above 1024\n",
    "\n",
    "    server_socket = socket.socket() # get instance\n",
    "\n",
    "#look closely. The bind() function takes tuple as argument\n",
    "\n",
    "    server_socket.bind((host, port)) # bind host address and port together\n",
    "\n",
    "# configure how many client the server can listen simultaneously\n",
    "\n",
    "    server_socket.listen(2)\n",
    "\n",
    "    conn, address =server_socket.accept() # accept new connection\n",
    "\n",
    "    print(\"Connection from: \" + str(address))\n",
    "\n",
    "    while True:\n",
    "\n",
    "# receive data stream. it won't accept data packet greater than 1024 bytes\n",
    "\n",
    "        data =conn.recv(1024).decode()\n",
    "\n",
    "        if not data:\n",
    "\n",
    "#if data is not received break\n",
    "\n",
    "            break\n",
    "\n",
    "        print(\"from connected user: \" + str(data))\n",
    "        data = input('->')\n",
    "        conn.send(data.encode())\n",
    "\n",
    "    conn.close()\n",
    "\n",
    "if __name__=='__main__':\n",
    "    server_program()"
   ]
  }
 ],
 "metadata": {
  "interpreter": {
   "hash": "27f6fea6f47ae512550f0b8facdbd035a93e1dd89633f7bf2dd00a2502c71d0d"
  },
  "kernelspec": {
   "display_name": "Python 3.10.1 64-bit",
   "language": "python",
   "name": "python3"
  },
  "language_info": {
   "codemirror_mode": {
    "name": "ipython",
    "version": 3
   },
   "file_extension": ".py",
   "mimetype": "text/x-python",
   "name": "python",
   "nbconvert_exporter": "python",
   "pygments_lexer": "ipython3",
   "version": "3.10.1"
  },
  "orig_nbformat": 4
 },
 "nbformat": 4,
 "nbformat_minor": 2
}
